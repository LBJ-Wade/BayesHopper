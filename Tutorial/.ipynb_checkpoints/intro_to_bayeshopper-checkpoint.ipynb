{
 "cells": [
  {
   "cell_type": "markdown",
   "metadata": {},
   "source": [
    "# Intro to BayesHopper\n",
    "\n",
    "This tutorial is intended to help anyone learn how to run BayesHopper, a trans-dimensional sampler for pulsar timing array data analysis.\n",
    "\n",
    "### Installation\n",
    "\n"
   ]
  },
  {
   "cell_type": "code",
   "execution_count": 4,
   "metadata": {},
   "outputs": [
    {
     "name": "stdout",
     "output_type": "stream",
     "text": [
      "The autoreload extension is already loaded. To reload it, use:\n",
      "  %reload_ext autoreload\n"
     ]
    },
    {
     "ename": "ValueError",
     "evalue": "attempted relative import beyond top-level package",
     "output_type": "error",
     "traceback": [
      "\u001b[0;31m---------------------------------------------------------------------------\u001b[0m",
      "\u001b[0;31mValueError\u001b[0m                                Traceback (most recent call last)",
      "\u001b[0;32m<ipython-input-4-a4090696c01a>\u001b[0m in \u001b[0;36m<module>\u001b[0;34m\u001b[0m\n\u001b[1;32m     34\u001b[0m \u001b[0;32mfrom\u001b[0m \u001b[0menterprise_extensions\u001b[0m \u001b[0;32mimport\u001b[0m \u001b[0mmodels\u001b[0m\u001b[0;34m,\u001b[0m \u001b[0mmodel_utils\u001b[0m\u001b[0;34m\u001b[0m\u001b[0;34m\u001b[0m\u001b[0m\n\u001b[1;32m     35\u001b[0m \u001b[0;34m\u001b[0m\u001b[0m\n\u001b[0;32m---> 36\u001b[0;31m \u001b[0;32mfrom\u001b[0m \u001b[0;34m.\u001b[0m\u001b[0;34m.\u001b[0m \u001b[0;32mimport\u001b[0m \u001b[0mBayesHopper\u001b[0m\u001b[0;34m\u001b[0m\u001b[0;34m\u001b[0m\u001b[0m\n\u001b[0m\u001b[1;32m     37\u001b[0m \u001b[0;32mimport\u001b[0m \u001b[0mhealpy\u001b[0m \u001b[0;32mas\u001b[0m \u001b[0mhp\u001b[0m\u001b[0;34m\u001b[0m\u001b[0;34m\u001b[0m\u001b[0m\n",
      "\u001b[0;31mValueError\u001b[0m: attempted relative import beyond top-level package"
     ]
    }
   ],
   "source": [
    "%matplotlib inline\n",
    "%config InlineBackend.figure_format = 'retina'\n",
    "%load_ext autoreload\n",
    "#%load_ext line_profiler\n",
    "%autoreload 2\n",
    "\n",
    "exec('from __future__ import division')\n",
    "\n",
    "import numpy as np\n",
    "import numdifftools as nd\n",
    "import os, glob, json \n",
    "import matplotlib.pyplot as plt\n",
    "import scipy.linalg as sl\n",
    "\n",
    "import enterprise\n",
    "from enterprise.pulsar import Pulsar\n",
    "import enterprise.signals.parameter as parameter\n",
    "from enterprise.signals import utils\n",
    "from enterprise.signals import signal_base\n",
    "from enterprise.signals import selections\n",
    "from enterprise.signals.selections import Selection\n",
    "from enterprise.signals import white_signals\n",
    "from enterprise.signals import gp_signals\n",
    "from enterprise.signals import deterministic_signals\n",
    "import enterprise.constants as const\n",
    "\n",
    "import corner\n",
    "\n",
    "import libstempo as T2\n",
    "import libstempo.toasim as LT\n",
    "import libstempo.plot as LP\n",
    "\n",
    "import enterprise_extensions\n",
    "from enterprise_extensions import models, model_utils\n",
    "\n",
    "from .. import BayesHopper\n",
    "import healpy as hp"
   ]
  },
  {
   "cell_type": "code",
   "execution_count": 5,
   "metadata": {},
   "outputs": [
    {
     "name": "stdout",
     "output_type": "stream",
     "text": [
      "['./ParGenerator/par/JPSR00.par', './ParGenerator/par/JPSR01.par', './ParGenerator/par/JPSR02.par', './ParGenerator/par/JPSR03.par', './ParGenerator/par/JPSR04.par', './ParGenerator/par/JPSR05.par', './ParGenerator/par/JPSR06.par', './ParGenerator/par/JPSR07.par', './ParGenerator/par/JPSR08.par', './ParGenerator/par/JPSR09.par', './ParGenerator/par/JPSR10.par', './ParGenerator/par/JPSR11.par', './ParGenerator/par/JPSR12.par', './ParGenerator/par/JPSR13.par', './ParGenerator/par/JPSR14.par', './ParGenerator/par/JPSR15.par', './ParGenerator/par/JPSR16.par', './ParGenerator/par/JPSR17.par', './ParGenerator/par/JPSR18.par', './ParGenerator/par/JPSR19.par']\n",
      "['./ParGenerator/FakeTims/fake_JPSR00_study4_highergwb.tim', './ParGenerator/FakeTims/fake_JPSR01_study4_highergwb.tim', './ParGenerator/FakeTims/fake_JPSR02_study4_highergwb.tim', './ParGenerator/FakeTims/fake_JPSR03_study4_highergwb.tim', './ParGenerator/FakeTims/fake_JPSR04_study4_highergwb.tim', './ParGenerator/FakeTims/fake_JPSR05_study4_highergwb.tim', './ParGenerator/FakeTims/fake_JPSR06_study4_highergwb.tim', './ParGenerator/FakeTims/fake_JPSR07_study4_highergwb.tim', './ParGenerator/FakeTims/fake_JPSR08_study4_highergwb.tim', './ParGenerator/FakeTims/fake_JPSR09_study4_highergwb.tim', './ParGenerator/FakeTims/fake_JPSR10_study4_highergwb.tim', './ParGenerator/FakeTims/fake_JPSR11_study4_highergwb.tim', './ParGenerator/FakeTims/fake_JPSR12_study4_highergwb.tim', './ParGenerator/FakeTims/fake_JPSR13_study4_highergwb.tim', './ParGenerator/FakeTims/fake_JPSR14_study4_highergwb.tim', './ParGenerator/FakeTims/fake_JPSR15_study4_highergwb.tim', './ParGenerator/FakeTims/fake_JPSR16_study4_highergwb.tim', './ParGenerator/FakeTims/fake_JPSR17_study4_highergwb.tim', './ParGenerator/FakeTims/fake_JPSR18_study4_highergwb.tim', './ParGenerator/FakeTims/fake_JPSR19_study4_highergwb.tim']\n"
     ]
    }
   ],
   "source": [
    "timdir = './ParGenerator/FakeTims/'\n",
    "pardir = './ParGenerator/par/'\n",
    "\n",
    "parfiles = sorted(glob.glob(pardir + '/JPSR*.par'))\n",
    "timfiles = sorted(glob.glob(timdir + '/*_study4_highergwb.tim'))\n",
    "\n",
    "print(parfiles)\n",
    "print(timfiles)"
   ]
  },
  {
   "cell_type": "code",
   "execution_count": 6,
   "metadata": {},
   "outputs": [
    {
     "name": "stderr",
     "output_type": "stream",
     "text": [
      "WARNING: enterprise.pulsar: WARNING: Could not find pulsar distance for PSR JPSR00. Setting value to 1 with 20% uncertainty.\n"
     ]
    },
    {
     "name": "stdout",
     "output_type": "stream",
     "text": [
      "20\n"
     ]
    },
    {
     "name": "stderr",
     "output_type": "stream",
     "text": [
      "WARNING: enterprise.pulsar: WARNING: Could not find pulsar distance for PSR JPSR01. Setting value to 1 with 20% uncertainty.\n",
      "WARNING: enterprise.pulsar: WARNING: Could not find pulsar distance for PSR JPSR02. Setting value to 1 with 20% uncertainty.\n",
      "WARNING: enterprise.pulsar: WARNING: Could not find pulsar distance for PSR JPSR03. Setting value to 1 with 20% uncertainty.\n",
      "WARNING: enterprise.pulsar: WARNING: Could not find pulsar distance for PSR JPSR04. Setting value to 1 with 20% uncertainty.\n",
      "WARNING: enterprise.pulsar: WARNING: Could not find pulsar distance for PSR JPSR05. Setting value to 1 with 20% uncertainty.\n",
      "WARNING: enterprise.pulsar: WARNING: Could not find pulsar distance for PSR JPSR06. Setting value to 1 with 20% uncertainty.\n",
      "WARNING: enterprise.pulsar: WARNING: Could not find pulsar distance for PSR JPSR07. Setting value to 1 with 20% uncertainty.\n",
      "WARNING: enterprise.pulsar: WARNING: Could not find pulsar distance for PSR JPSR08. Setting value to 1 with 20% uncertainty.\n",
      "WARNING: enterprise.pulsar: WARNING: Could not find pulsar distance for PSR JPSR09. Setting value to 1 with 20% uncertainty.\n",
      "WARNING: enterprise.pulsar: WARNING: Could not find pulsar distance for PSR JPSR10. Setting value to 1 with 20% uncertainty.\n",
      "WARNING: enterprise.pulsar: WARNING: Could not find pulsar distance for PSR JPSR11. Setting value to 1 with 20% uncertainty.\n",
      "WARNING: enterprise.pulsar: WARNING: Could not find pulsar distance for PSR JPSR12. Setting value to 1 with 20% uncertainty.\n",
      "WARNING: enterprise.pulsar: WARNING: Could not find pulsar distance for PSR JPSR13. Setting value to 1 with 20% uncertainty.\n",
      "WARNING: enterprise.pulsar: WARNING: Could not find pulsar distance for PSR JPSR14. Setting value to 1 with 20% uncertainty.\n",
      "WARNING: enterprise.pulsar: WARNING: Could not find pulsar distance for PSR JPSR15. Setting value to 1 with 20% uncertainty.\n",
      "WARNING: enterprise.pulsar: WARNING: Could not find pulsar distance for PSR JPSR16. Setting value to 1 with 20% uncertainty.\n",
      "WARNING: enterprise.pulsar: WARNING: Could not find pulsar distance for PSR JPSR17. Setting value to 1 with 20% uncertainty.\n",
      "WARNING: enterprise.pulsar: WARNING: Could not find pulsar distance for PSR JPSR18. Setting value to 1 with 20% uncertainty.\n",
      "WARNING: enterprise.pulsar: WARNING: Could not find pulsar distance for PSR JPSR19. Setting value to 1 with 20% uncertainty.\n"
     ]
    }
   ],
   "source": [
    "print(len(parfiles))\n",
    "\n",
    "psrs = []\n",
    "for p, t in zip(parfiles, timfiles):\n",
    "    #print(p)\n",
    "    psr = Pulsar(p, t, ephem='DE436', clk=None)\n",
    "    psrs.append(psr)"
   ]
  },
  {
   "cell_type": "code",
   "execution_count": null,
   "metadata": {},
   "outputs": [
    {
     "name": "stdout",
     "output_type": "stream",
     "text": [
      "[[<enterprise.signals.signal_base.PTA object at 0x7f25401379b0>], [<enterprise.signals.signal_base.PTA object at 0x7f254019c2b0>], [<enterprise.signals.signal_base.PTA object at 0x7f2540128a20>], [<enterprise.signals.signal_base.PTA object at 0x7f250abde4e0>], [<enterprise.signals.signal_base.PTA object at 0x7f25400102b0>], [<enterprise.signals.signal_base.PTA object at 0x7f2540034b38>], [<enterprise.signals.signal_base.PTA object at 0x7f253abb47f0>], [<enterprise.signals.signal_base.PTA object at 0x7f253ab608d0>], [<enterprise.signals.signal_base.PTA object at 0x7f253ab0afd0>], [<enterprise.signals.signal_base.PTA object at 0x7f253ab31eb8>], [<enterprise.signals.signal_base.PTA object at 0x7f253aaea9e8>]]\n",
      "0\n",
      "0\n",
      "[JPSR00_efac:Uniform(pmin=0.01, pmax=10.0), JPSR04_efac:Uniform(pmin=0.01, pmax=10.0), JPSR08_efac:Uniform(pmin=0.01, pmax=10.0), JPSR12_efac:Uniform(pmin=0.01, pmax=10.0), JPSR16_efac:Uniform(pmin=0.01, pmax=10.0), com_rn_gamma:Uniform(pmin=0, pmax=7), com_rn_log10_A:LinearExp(pmin=-18, pmax=-13)]\n",
      "1\n",
      "0\n",
      "[0_cos_gwtheta:Uniform(pmin=-1, pmax=1), 0_cos_inc:Uniform(pmin=-1, pmax=1), 0_gwphi:Uniform(pmin=0, pmax=6.283185307179586), 0_log10_fgw:Uniform(pmin=-8.455931955649724, pmax=-7), 0_log10_h:LinearExp(pmin=-18, pmax=-13), 0_phase0:Uniform(pmin=0, pmax=6.283185307179586), 0_psi:Uniform(pmin=0, pmax=3.141592653589793), JPSR00_efac:Uniform(pmin=0.01, pmax=10.0), JPSR04_efac:Uniform(pmin=0.01, pmax=10.0), JPSR08_efac:Uniform(pmin=0.01, pmax=10.0), JPSR12_efac:Uniform(pmin=0.01, pmax=10.0), JPSR16_efac:Uniform(pmin=0.01, pmax=10.0), com_rn_gamma:Uniform(pmin=0, pmax=7), com_rn_log10_A:LinearExp(pmin=-18, pmax=-13)]\n",
      "2\n",
      "0\n",
      "[0_cos_gwtheta:Uniform(pmin=-1, pmax=1), 0_cos_inc:Uniform(pmin=-1, pmax=1), 0_gwphi:Uniform(pmin=0, pmax=6.283185307179586), 0_log10_fgw:Uniform(pmin=-8.455931955649724, pmax=-7), 0_log10_h:LinearExp(pmin=-18, pmax=-13), 0_phase0:Uniform(pmin=0, pmax=6.283185307179586), 0_psi:Uniform(pmin=0, pmax=3.141592653589793), 1_cos_gwtheta:Uniform(pmin=-1, pmax=1), 1_cos_inc:Uniform(pmin=-1, pmax=1), 1_gwphi:Uniform(pmin=0, pmax=6.283185307179586), 1_log10_fgw:Uniform(pmin=-8.455931955649724, pmax=-7), 1_log10_h:LinearExp(pmin=-18, pmax=-13), 1_phase0:Uniform(pmin=0, pmax=6.283185307179586), 1_psi:Uniform(pmin=0, pmax=3.141592653589793), JPSR00_efac:Uniform(pmin=0.01, pmax=10.0), JPSR04_efac:Uniform(pmin=0.01, pmax=10.0), JPSR08_efac:Uniform(pmin=0.01, pmax=10.0), JPSR12_efac:Uniform(pmin=0.01, pmax=10.0), JPSR16_efac:Uniform(pmin=0.01, pmax=10.0), com_rn_gamma:Uniform(pmin=0, pmax=7), com_rn_log10_A:LinearExp(pmin=-18, pmax=-13)]\n",
      "3\n",
      "0\n",
      "[0_cos_gwtheta:Uniform(pmin=-1, pmax=1), 0_cos_inc:Uniform(pmin=-1, pmax=1), 0_gwphi:Uniform(pmin=0, pmax=6.283185307179586), 0_log10_fgw:Uniform(pmin=-8.455931955649724, pmax=-7), 0_log10_h:LinearExp(pmin=-18, pmax=-13), 0_phase0:Uniform(pmin=0, pmax=6.283185307179586), 0_psi:Uniform(pmin=0, pmax=3.141592653589793), 1_cos_gwtheta:Uniform(pmin=-1, pmax=1), 1_cos_inc:Uniform(pmin=-1, pmax=1), 1_gwphi:Uniform(pmin=0, pmax=6.283185307179586), 1_log10_fgw:Uniform(pmin=-8.455931955649724, pmax=-7), 1_log10_h:LinearExp(pmin=-18, pmax=-13), 1_phase0:Uniform(pmin=0, pmax=6.283185307179586), 1_psi:Uniform(pmin=0, pmax=3.141592653589793), 2_cos_gwtheta:Uniform(pmin=-1, pmax=1), 2_cos_inc:Uniform(pmin=-1, pmax=1), 2_gwphi:Uniform(pmin=0, pmax=6.283185307179586), 2_log10_fgw:Uniform(pmin=-8.455931955649724, pmax=-7), 2_log10_h:LinearExp(pmin=-18, pmax=-13), 2_phase0:Uniform(pmin=0, pmax=6.283185307179586), 2_psi:Uniform(pmin=0, pmax=3.141592653589793), JPSR00_efac:Uniform(pmin=0.01, pmax=10.0), JPSR04_efac:Uniform(pmin=0.01, pmax=10.0), JPSR08_efac:Uniform(pmin=0.01, pmax=10.0), JPSR12_efac:Uniform(pmin=0.01, pmax=10.0), JPSR16_efac:Uniform(pmin=0.01, pmax=10.0), com_rn_gamma:Uniform(pmin=0, pmax=7), com_rn_log10_A:LinearExp(pmin=-18, pmax=-13)]\n",
      "4\n",
      "0\n",
      "[0_cos_gwtheta:Uniform(pmin=-1, pmax=1), 0_cos_inc:Uniform(pmin=-1, pmax=1), 0_gwphi:Uniform(pmin=0, pmax=6.283185307179586), 0_log10_fgw:Uniform(pmin=-8.455931955649724, pmax=-7), 0_log10_h:LinearExp(pmin=-18, pmax=-13), 0_phase0:Uniform(pmin=0, pmax=6.283185307179586), 0_psi:Uniform(pmin=0, pmax=3.141592653589793), 1_cos_gwtheta:Uniform(pmin=-1, pmax=1), 1_cos_inc:Uniform(pmin=-1, pmax=1), 1_gwphi:Uniform(pmin=0, pmax=6.283185307179586), 1_log10_fgw:Uniform(pmin=-8.455931955649724, pmax=-7), 1_log10_h:LinearExp(pmin=-18, pmax=-13), 1_phase0:Uniform(pmin=0, pmax=6.283185307179586), 1_psi:Uniform(pmin=0, pmax=3.141592653589793), 2_cos_gwtheta:Uniform(pmin=-1, pmax=1), 2_cos_inc:Uniform(pmin=-1, pmax=1), 2_gwphi:Uniform(pmin=0, pmax=6.283185307179586), 2_log10_fgw:Uniform(pmin=-8.455931955649724, pmax=-7), 2_log10_h:LinearExp(pmin=-18, pmax=-13), 2_phase0:Uniform(pmin=0, pmax=6.283185307179586), 2_psi:Uniform(pmin=0, pmax=3.141592653589793), 3_cos_gwtheta:Uniform(pmin=-1, pmax=1), 3_cos_inc:Uniform(pmin=-1, pmax=1), 3_gwphi:Uniform(pmin=0, pmax=6.283185307179586), 3_log10_fgw:Uniform(pmin=-8.455931955649724, pmax=-7), 3_log10_h:LinearExp(pmin=-18, pmax=-13), 3_phase0:Uniform(pmin=0, pmax=6.283185307179586), 3_psi:Uniform(pmin=0, pmax=3.141592653589793), JPSR00_efac:Uniform(pmin=0.01, pmax=10.0), JPSR04_efac:Uniform(pmin=0.01, pmax=10.0), JPSR08_efac:Uniform(pmin=0.01, pmax=10.0), JPSR12_efac:Uniform(pmin=0.01, pmax=10.0), JPSR16_efac:Uniform(pmin=0.01, pmax=10.0), com_rn_gamma:Uniform(pmin=0, pmax=7), com_rn_log10_A:LinearExp(pmin=-18, pmax=-13)]\n",
      "5\n",
      "0\n",
      "[0_cos_gwtheta:Uniform(pmin=-1, pmax=1), 0_cos_inc:Uniform(pmin=-1, pmax=1), 0_gwphi:Uniform(pmin=0, pmax=6.283185307179586), 0_log10_fgw:Uniform(pmin=-8.455931955649724, pmax=-7), 0_log10_h:LinearExp(pmin=-18, pmax=-13), 0_phase0:Uniform(pmin=0, pmax=6.283185307179586), 0_psi:Uniform(pmin=0, pmax=3.141592653589793), 1_cos_gwtheta:Uniform(pmin=-1, pmax=1), 1_cos_inc:Uniform(pmin=-1, pmax=1), 1_gwphi:Uniform(pmin=0, pmax=6.283185307179586), 1_log10_fgw:Uniform(pmin=-8.455931955649724, pmax=-7), 1_log10_h:LinearExp(pmin=-18, pmax=-13), 1_phase0:Uniform(pmin=0, pmax=6.283185307179586), 1_psi:Uniform(pmin=0, pmax=3.141592653589793), 2_cos_gwtheta:Uniform(pmin=-1, pmax=1), 2_cos_inc:Uniform(pmin=-1, pmax=1), 2_gwphi:Uniform(pmin=0, pmax=6.283185307179586), 2_log10_fgw:Uniform(pmin=-8.455931955649724, pmax=-7), 2_log10_h:LinearExp(pmin=-18, pmax=-13), 2_phase0:Uniform(pmin=0, pmax=6.283185307179586), 2_psi:Uniform(pmin=0, pmax=3.141592653589793), 3_cos_gwtheta:Uniform(pmin=-1, pmax=1), 3_cos_inc:Uniform(pmin=-1, pmax=1), 3_gwphi:Uniform(pmin=0, pmax=6.283185307179586), 3_log10_fgw:Uniform(pmin=-8.455931955649724, pmax=-7), 3_log10_h:LinearExp(pmin=-18, pmax=-13), 3_phase0:Uniform(pmin=0, pmax=6.283185307179586), 3_psi:Uniform(pmin=0, pmax=3.141592653589793), 4_cos_gwtheta:Uniform(pmin=-1, pmax=1), 4_cos_inc:Uniform(pmin=-1, pmax=1), 4_gwphi:Uniform(pmin=0, pmax=6.283185307179586), 4_log10_fgw:Uniform(pmin=-8.455931955649724, pmax=-7), 4_log10_h:LinearExp(pmin=-18, pmax=-13), 4_phase0:Uniform(pmin=0, pmax=6.283185307179586), 4_psi:Uniform(pmin=0, pmax=3.141592653589793), JPSR00_efac:Uniform(pmin=0.01, pmax=10.0), JPSR04_efac:Uniform(pmin=0.01, pmax=10.0), JPSR08_efac:Uniform(pmin=0.01, pmax=10.0), JPSR12_efac:Uniform(pmin=0.01, pmax=10.0), JPSR16_efac:Uniform(pmin=0.01, pmax=10.0), com_rn_gamma:Uniform(pmin=0, pmax=7), com_rn_log10_A:LinearExp(pmin=-18, pmax=-13)]\n",
      "6\n",
      "0\n",
      "[0_cos_gwtheta:Uniform(pmin=-1, pmax=1), 0_cos_inc:Uniform(pmin=-1, pmax=1), 0_gwphi:Uniform(pmin=0, pmax=6.283185307179586), 0_log10_fgw:Uniform(pmin=-8.455931955649724, pmax=-7), 0_log10_h:LinearExp(pmin=-18, pmax=-13), 0_phase0:Uniform(pmin=0, pmax=6.283185307179586), 0_psi:Uniform(pmin=0, pmax=3.141592653589793), 1_cos_gwtheta:Uniform(pmin=-1, pmax=1), 1_cos_inc:Uniform(pmin=-1, pmax=1), 1_gwphi:Uniform(pmin=0, pmax=6.283185307179586), 1_log10_fgw:Uniform(pmin=-8.455931955649724, pmax=-7), 1_log10_h:LinearExp(pmin=-18, pmax=-13), 1_phase0:Uniform(pmin=0, pmax=6.283185307179586), 1_psi:Uniform(pmin=0, pmax=3.141592653589793), 2_cos_gwtheta:Uniform(pmin=-1, pmax=1), 2_cos_inc:Uniform(pmin=-1, pmax=1), 2_gwphi:Uniform(pmin=0, pmax=6.283185307179586), 2_log10_fgw:Uniform(pmin=-8.455931955649724, pmax=-7), 2_log10_h:LinearExp(pmin=-18, pmax=-13), 2_phase0:Uniform(pmin=0, pmax=6.283185307179586), 2_psi:Uniform(pmin=0, pmax=3.141592653589793), 3_cos_gwtheta:Uniform(pmin=-1, pmax=1), 3_cos_inc:Uniform(pmin=-1, pmax=1), 3_gwphi:Uniform(pmin=0, pmax=6.283185307179586), 3_log10_fgw:Uniform(pmin=-8.455931955649724, pmax=-7), 3_log10_h:LinearExp(pmin=-18, pmax=-13), 3_phase0:Uniform(pmin=0, pmax=6.283185307179586), 3_psi:Uniform(pmin=0, pmax=3.141592653589793), 4_cos_gwtheta:Uniform(pmin=-1, pmax=1), 4_cos_inc:Uniform(pmin=-1, pmax=1), 4_gwphi:Uniform(pmin=0, pmax=6.283185307179586), 4_log10_fgw:Uniform(pmin=-8.455931955649724, pmax=-7), 4_log10_h:LinearExp(pmin=-18, pmax=-13), 4_phase0:Uniform(pmin=0, pmax=6.283185307179586), 4_psi:Uniform(pmin=0, pmax=3.141592653589793), 5_cos_gwtheta:Uniform(pmin=-1, pmax=1), 5_cos_inc:Uniform(pmin=-1, pmax=1), 5_gwphi:Uniform(pmin=0, pmax=6.283185307179586), 5_log10_fgw:Uniform(pmin=-8.455931955649724, pmax=-7), 5_log10_h:LinearExp(pmin=-18, pmax=-13), 5_phase0:Uniform(pmin=0, pmax=6.283185307179586), 5_psi:Uniform(pmin=0, pmax=3.141592653589793), JPSR00_efac:Uniform(pmin=0.01, pmax=10.0), JPSR04_efac:Uniform(pmin=0.01, pmax=10.0), JPSR08_efac:Uniform(pmin=0.01, pmax=10.0), JPSR12_efac:Uniform(pmin=0.01, pmax=10.0), JPSR16_efac:Uniform(pmin=0.01, pmax=10.0), com_rn_gamma:Uniform(pmin=0, pmax=7), com_rn_log10_A:LinearExp(pmin=-18, pmax=-13)]\n",
      "7\n",
      "0\n",
      "[0_cos_gwtheta:Uniform(pmin=-1, pmax=1), 0_cos_inc:Uniform(pmin=-1, pmax=1), 0_gwphi:Uniform(pmin=0, pmax=6.283185307179586), 0_log10_fgw:Uniform(pmin=-8.455931955649724, pmax=-7), 0_log10_h:LinearExp(pmin=-18, pmax=-13), 0_phase0:Uniform(pmin=0, pmax=6.283185307179586), 0_psi:Uniform(pmin=0, pmax=3.141592653589793), 1_cos_gwtheta:Uniform(pmin=-1, pmax=1), 1_cos_inc:Uniform(pmin=-1, pmax=1), 1_gwphi:Uniform(pmin=0, pmax=6.283185307179586), 1_log10_fgw:Uniform(pmin=-8.455931955649724, pmax=-7), 1_log10_h:LinearExp(pmin=-18, pmax=-13), 1_phase0:Uniform(pmin=0, pmax=6.283185307179586), 1_psi:Uniform(pmin=0, pmax=3.141592653589793), 2_cos_gwtheta:Uniform(pmin=-1, pmax=1), 2_cos_inc:Uniform(pmin=-1, pmax=1), 2_gwphi:Uniform(pmin=0, pmax=6.283185307179586), 2_log10_fgw:Uniform(pmin=-8.455931955649724, pmax=-7), 2_log10_h:LinearExp(pmin=-18, pmax=-13), 2_phase0:Uniform(pmin=0, pmax=6.283185307179586), 2_psi:Uniform(pmin=0, pmax=3.141592653589793), 3_cos_gwtheta:Uniform(pmin=-1, pmax=1), 3_cos_inc:Uniform(pmin=-1, pmax=1), 3_gwphi:Uniform(pmin=0, pmax=6.283185307179586), 3_log10_fgw:Uniform(pmin=-8.455931955649724, pmax=-7), 3_log10_h:LinearExp(pmin=-18, pmax=-13), 3_phase0:Uniform(pmin=0, pmax=6.283185307179586), 3_psi:Uniform(pmin=0, pmax=3.141592653589793), 4_cos_gwtheta:Uniform(pmin=-1, pmax=1), 4_cos_inc:Uniform(pmin=-1, pmax=1), 4_gwphi:Uniform(pmin=0, pmax=6.283185307179586), 4_log10_fgw:Uniform(pmin=-8.455931955649724, pmax=-7), 4_log10_h:LinearExp(pmin=-18, pmax=-13), 4_phase0:Uniform(pmin=0, pmax=6.283185307179586), 4_psi:Uniform(pmin=0, pmax=3.141592653589793), 5_cos_gwtheta:Uniform(pmin=-1, pmax=1), 5_cos_inc:Uniform(pmin=-1, pmax=1), 5_gwphi:Uniform(pmin=0, pmax=6.283185307179586), 5_log10_fgw:Uniform(pmin=-8.455931955649724, pmax=-7), 5_log10_h:LinearExp(pmin=-18, pmax=-13), 5_phase0:Uniform(pmin=0, pmax=6.283185307179586), 5_psi:Uniform(pmin=0, pmax=3.141592653589793), 6_cos_gwtheta:Uniform(pmin=-1, pmax=1), 6_cos_inc:Uniform(pmin=-1, pmax=1), 6_gwphi:Uniform(pmin=0, pmax=6.283185307179586), 6_log10_fgw:Uniform(pmin=-8.455931955649724, pmax=-7), 6_log10_h:LinearExp(pmin=-18, pmax=-13), 6_phase0:Uniform(pmin=0, pmax=6.283185307179586), 6_psi:Uniform(pmin=0, pmax=3.141592653589793), JPSR00_efac:Uniform(pmin=0.01, pmax=10.0), JPSR04_efac:Uniform(pmin=0.01, pmax=10.0), JPSR08_efac:Uniform(pmin=0.01, pmax=10.0), JPSR12_efac:Uniform(pmin=0.01, pmax=10.0), JPSR16_efac:Uniform(pmin=0.01, pmax=10.0), com_rn_gamma:Uniform(pmin=0, pmax=7), com_rn_log10_A:LinearExp(pmin=-18, pmax=-13)]\n",
      "8\n",
      "0\n",
      "[0_cos_gwtheta:Uniform(pmin=-1, pmax=1), 0_cos_inc:Uniform(pmin=-1, pmax=1), 0_gwphi:Uniform(pmin=0, pmax=6.283185307179586), 0_log10_fgw:Uniform(pmin=-8.455931955649724, pmax=-7), 0_log10_h:LinearExp(pmin=-18, pmax=-13), 0_phase0:Uniform(pmin=0, pmax=6.283185307179586), 0_psi:Uniform(pmin=0, pmax=3.141592653589793), 1_cos_gwtheta:Uniform(pmin=-1, pmax=1), 1_cos_inc:Uniform(pmin=-1, pmax=1), 1_gwphi:Uniform(pmin=0, pmax=6.283185307179586), 1_log10_fgw:Uniform(pmin=-8.455931955649724, pmax=-7), 1_log10_h:LinearExp(pmin=-18, pmax=-13), 1_phase0:Uniform(pmin=0, pmax=6.283185307179586), 1_psi:Uniform(pmin=0, pmax=3.141592653589793), 2_cos_gwtheta:Uniform(pmin=-1, pmax=1), 2_cos_inc:Uniform(pmin=-1, pmax=1), 2_gwphi:Uniform(pmin=0, pmax=6.283185307179586), 2_log10_fgw:Uniform(pmin=-8.455931955649724, pmax=-7), 2_log10_h:LinearExp(pmin=-18, pmax=-13), 2_phase0:Uniform(pmin=0, pmax=6.283185307179586), 2_psi:Uniform(pmin=0, pmax=3.141592653589793), 3_cos_gwtheta:Uniform(pmin=-1, pmax=1), 3_cos_inc:Uniform(pmin=-1, pmax=1), 3_gwphi:Uniform(pmin=0, pmax=6.283185307179586), 3_log10_fgw:Uniform(pmin=-8.455931955649724, pmax=-7), 3_log10_h:LinearExp(pmin=-18, pmax=-13), 3_phase0:Uniform(pmin=0, pmax=6.283185307179586), 3_psi:Uniform(pmin=0, pmax=3.141592653589793), 4_cos_gwtheta:Uniform(pmin=-1, pmax=1), 4_cos_inc:Uniform(pmin=-1, pmax=1), 4_gwphi:Uniform(pmin=0, pmax=6.283185307179586), 4_log10_fgw:Uniform(pmin=-8.455931955649724, pmax=-7), 4_log10_h:LinearExp(pmin=-18, pmax=-13), 4_phase0:Uniform(pmin=0, pmax=6.283185307179586), 4_psi:Uniform(pmin=0, pmax=3.141592653589793), 5_cos_gwtheta:Uniform(pmin=-1, pmax=1), 5_cos_inc:Uniform(pmin=-1, pmax=1), 5_gwphi:Uniform(pmin=0, pmax=6.283185307179586), 5_log10_fgw:Uniform(pmin=-8.455931955649724, pmax=-7), 5_log10_h:LinearExp(pmin=-18, pmax=-13), 5_phase0:Uniform(pmin=0, pmax=6.283185307179586), 5_psi:Uniform(pmin=0, pmax=3.141592653589793), 6_cos_gwtheta:Uniform(pmin=-1, pmax=1), 6_cos_inc:Uniform(pmin=-1, pmax=1), 6_gwphi:Uniform(pmin=0, pmax=6.283185307179586), 6_log10_fgw:Uniform(pmin=-8.455931955649724, pmax=-7), 6_log10_h:LinearExp(pmin=-18, pmax=-13), 6_phase0:Uniform(pmin=0, pmax=6.283185307179586), 6_psi:Uniform(pmin=0, pmax=3.141592653589793), 7_cos_gwtheta:Uniform(pmin=-1, pmax=1), 7_cos_inc:Uniform(pmin=-1, pmax=1), 7_gwphi:Uniform(pmin=0, pmax=6.283185307179586), 7_log10_fgw:Uniform(pmin=-8.455931955649724, pmax=-7), 7_log10_h:LinearExp(pmin=-18, pmax=-13), 7_phase0:Uniform(pmin=0, pmax=6.283185307179586), 7_psi:Uniform(pmin=0, pmax=3.141592653589793), JPSR00_efac:Uniform(pmin=0.01, pmax=10.0), JPSR04_efac:Uniform(pmin=0.01, pmax=10.0), JPSR08_efac:Uniform(pmin=0.01, pmax=10.0), JPSR12_efac:Uniform(pmin=0.01, pmax=10.0), JPSR16_efac:Uniform(pmin=0.01, pmax=10.0), com_rn_gamma:Uniform(pmin=0, pmax=7), com_rn_log10_A:LinearExp(pmin=-18, pmax=-13)]\n",
      "9\n",
      "0\n",
      "[0_cos_gwtheta:Uniform(pmin=-1, pmax=1), 0_cos_inc:Uniform(pmin=-1, pmax=1), 0_gwphi:Uniform(pmin=0, pmax=6.283185307179586), 0_log10_fgw:Uniform(pmin=-8.455931955649724, pmax=-7), 0_log10_h:LinearExp(pmin=-18, pmax=-13), 0_phase0:Uniform(pmin=0, pmax=6.283185307179586), 0_psi:Uniform(pmin=0, pmax=3.141592653589793), 1_cos_gwtheta:Uniform(pmin=-1, pmax=1), 1_cos_inc:Uniform(pmin=-1, pmax=1), 1_gwphi:Uniform(pmin=0, pmax=6.283185307179586), 1_log10_fgw:Uniform(pmin=-8.455931955649724, pmax=-7), 1_log10_h:LinearExp(pmin=-18, pmax=-13), 1_phase0:Uniform(pmin=0, pmax=6.283185307179586), 1_psi:Uniform(pmin=0, pmax=3.141592653589793), 2_cos_gwtheta:Uniform(pmin=-1, pmax=1), 2_cos_inc:Uniform(pmin=-1, pmax=1), 2_gwphi:Uniform(pmin=0, pmax=6.283185307179586), 2_log10_fgw:Uniform(pmin=-8.455931955649724, pmax=-7), 2_log10_h:LinearExp(pmin=-18, pmax=-13), 2_phase0:Uniform(pmin=0, pmax=6.283185307179586), 2_psi:Uniform(pmin=0, pmax=3.141592653589793), 3_cos_gwtheta:Uniform(pmin=-1, pmax=1), 3_cos_inc:Uniform(pmin=-1, pmax=1), 3_gwphi:Uniform(pmin=0, pmax=6.283185307179586), 3_log10_fgw:Uniform(pmin=-8.455931955649724, pmax=-7), 3_log10_h:LinearExp(pmin=-18, pmax=-13), 3_phase0:Uniform(pmin=0, pmax=6.283185307179586), 3_psi:Uniform(pmin=0, pmax=3.141592653589793), 4_cos_gwtheta:Uniform(pmin=-1, pmax=1), 4_cos_inc:Uniform(pmin=-1, pmax=1), 4_gwphi:Uniform(pmin=0, pmax=6.283185307179586), 4_log10_fgw:Uniform(pmin=-8.455931955649724, pmax=-7), 4_log10_h:LinearExp(pmin=-18, pmax=-13), 4_phase0:Uniform(pmin=0, pmax=6.283185307179586), 4_psi:Uniform(pmin=0, pmax=3.141592653589793), 5_cos_gwtheta:Uniform(pmin=-1, pmax=1), 5_cos_inc:Uniform(pmin=-1, pmax=1), 5_gwphi:Uniform(pmin=0, pmax=6.283185307179586), 5_log10_fgw:Uniform(pmin=-8.455931955649724, pmax=-7), 5_log10_h:LinearExp(pmin=-18, pmax=-13), 5_phase0:Uniform(pmin=0, pmax=6.283185307179586), 5_psi:Uniform(pmin=0, pmax=3.141592653589793), 6_cos_gwtheta:Uniform(pmin=-1, pmax=1), 6_cos_inc:Uniform(pmin=-1, pmax=1), 6_gwphi:Uniform(pmin=0, pmax=6.283185307179586), 6_log10_fgw:Uniform(pmin=-8.455931955649724, pmax=-7), 6_log10_h:LinearExp(pmin=-18, pmax=-13), 6_phase0:Uniform(pmin=0, pmax=6.283185307179586), 6_psi:Uniform(pmin=0, pmax=3.141592653589793), 7_cos_gwtheta:Uniform(pmin=-1, pmax=1), 7_cos_inc:Uniform(pmin=-1, pmax=1), 7_gwphi:Uniform(pmin=0, pmax=6.283185307179586), 7_log10_fgw:Uniform(pmin=-8.455931955649724, pmax=-7), 7_log10_h:LinearExp(pmin=-18, pmax=-13), 7_phase0:Uniform(pmin=0, pmax=6.283185307179586), 7_psi:Uniform(pmin=0, pmax=3.141592653589793), 8_cos_gwtheta:Uniform(pmin=-1, pmax=1), 8_cos_inc:Uniform(pmin=-1, pmax=1), 8_gwphi:Uniform(pmin=0, pmax=6.283185307179586), 8_log10_fgw:Uniform(pmin=-8.455931955649724, pmax=-7), 8_log10_h:LinearExp(pmin=-18, pmax=-13), 8_phase0:Uniform(pmin=0, pmax=6.283185307179586), 8_psi:Uniform(pmin=0, pmax=3.141592653589793), JPSR00_efac:Uniform(pmin=0.01, pmax=10.0), JPSR04_efac:Uniform(pmin=0.01, pmax=10.0), JPSR08_efac:Uniform(pmin=0.01, pmax=10.0), JPSR12_efac:Uniform(pmin=0.01, pmax=10.0), JPSR16_efac:Uniform(pmin=0.01, pmax=10.0), com_rn_gamma:Uniform(pmin=0, pmax=7), com_rn_log10_A:LinearExp(pmin=-18, pmax=-13)]\n",
      "10\n",
      "0\n",
      "[0_cos_gwtheta:Uniform(pmin=-1, pmax=1), 0_cos_inc:Uniform(pmin=-1, pmax=1), 0_gwphi:Uniform(pmin=0, pmax=6.283185307179586), 0_log10_fgw:Uniform(pmin=-8.455931955649724, pmax=-7), 0_log10_h:LinearExp(pmin=-18, pmax=-13), 0_phase0:Uniform(pmin=0, pmax=6.283185307179586), 0_psi:Uniform(pmin=0, pmax=3.141592653589793), 1_cos_gwtheta:Uniform(pmin=-1, pmax=1), 1_cos_inc:Uniform(pmin=-1, pmax=1), 1_gwphi:Uniform(pmin=0, pmax=6.283185307179586), 1_log10_fgw:Uniform(pmin=-8.455931955649724, pmax=-7), 1_log10_h:LinearExp(pmin=-18, pmax=-13), 1_phase0:Uniform(pmin=0, pmax=6.283185307179586), 1_psi:Uniform(pmin=0, pmax=3.141592653589793), 2_cos_gwtheta:Uniform(pmin=-1, pmax=1), 2_cos_inc:Uniform(pmin=-1, pmax=1), 2_gwphi:Uniform(pmin=0, pmax=6.283185307179586), 2_log10_fgw:Uniform(pmin=-8.455931955649724, pmax=-7), 2_log10_h:LinearExp(pmin=-18, pmax=-13), 2_phase0:Uniform(pmin=0, pmax=6.283185307179586), 2_psi:Uniform(pmin=0, pmax=3.141592653589793), 3_cos_gwtheta:Uniform(pmin=-1, pmax=1), 3_cos_inc:Uniform(pmin=-1, pmax=1), 3_gwphi:Uniform(pmin=0, pmax=6.283185307179586), 3_log10_fgw:Uniform(pmin=-8.455931955649724, pmax=-7), 3_log10_h:LinearExp(pmin=-18, pmax=-13), 3_phase0:Uniform(pmin=0, pmax=6.283185307179586), 3_psi:Uniform(pmin=0, pmax=3.141592653589793), 4_cos_gwtheta:Uniform(pmin=-1, pmax=1), 4_cos_inc:Uniform(pmin=-1, pmax=1), 4_gwphi:Uniform(pmin=0, pmax=6.283185307179586), 4_log10_fgw:Uniform(pmin=-8.455931955649724, pmax=-7), 4_log10_h:LinearExp(pmin=-18, pmax=-13), 4_phase0:Uniform(pmin=0, pmax=6.283185307179586), 4_psi:Uniform(pmin=0, pmax=3.141592653589793), 5_cos_gwtheta:Uniform(pmin=-1, pmax=1), 5_cos_inc:Uniform(pmin=-1, pmax=1), 5_gwphi:Uniform(pmin=0, pmax=6.283185307179586), 5_log10_fgw:Uniform(pmin=-8.455931955649724, pmax=-7), 5_log10_h:LinearExp(pmin=-18, pmax=-13), 5_phase0:Uniform(pmin=0, pmax=6.283185307179586), 5_psi:Uniform(pmin=0, pmax=3.141592653589793), 6_cos_gwtheta:Uniform(pmin=-1, pmax=1), 6_cos_inc:Uniform(pmin=-1, pmax=1), 6_gwphi:Uniform(pmin=0, pmax=6.283185307179586), 6_log10_fgw:Uniform(pmin=-8.455931955649724, pmax=-7), 6_log10_h:LinearExp(pmin=-18, pmax=-13), 6_phase0:Uniform(pmin=0, pmax=6.283185307179586), 6_psi:Uniform(pmin=0, pmax=3.141592653589793), 7_cos_gwtheta:Uniform(pmin=-1, pmax=1), 7_cos_inc:Uniform(pmin=-1, pmax=1), 7_gwphi:Uniform(pmin=0, pmax=6.283185307179586), 7_log10_fgw:Uniform(pmin=-8.455931955649724, pmax=-7), 7_log10_h:LinearExp(pmin=-18, pmax=-13), 7_phase0:Uniform(pmin=0, pmax=6.283185307179586), 7_psi:Uniform(pmin=0, pmax=3.141592653589793), 8_cos_gwtheta:Uniform(pmin=-1, pmax=1), 8_cos_inc:Uniform(pmin=-1, pmax=1), 8_gwphi:Uniform(pmin=0, pmax=6.283185307179586), 8_log10_fgw:Uniform(pmin=-8.455931955649724, pmax=-7), 8_log10_h:LinearExp(pmin=-18, pmax=-13), 8_phase0:Uniform(pmin=0, pmax=6.283185307179586), 8_psi:Uniform(pmin=0, pmax=3.141592653589793), 9_cos_gwtheta:Uniform(pmin=-1, pmax=1), 9_cos_inc:Uniform(pmin=-1, pmax=1), 9_gwphi:Uniform(pmin=0, pmax=6.283185307179586), 9_log10_fgw:Uniform(pmin=-8.455931955649724, pmax=-7), 9_log10_h:LinearExp(pmin=-18, pmax=-13), 9_phase0:Uniform(pmin=0, pmax=6.283185307179586), 9_psi:Uniform(pmin=0, pmax=3.141592653589793), JPSR00_efac:Uniform(pmin=0.01, pmax=10.0), JPSR04_efac:Uniform(pmin=0.01, pmax=10.0), JPSR08_efac:Uniform(pmin=0.01, pmax=10.0), JPSR12_efac:Uniform(pmin=0.01, pmax=10.0), JPSR16_efac:Uniform(pmin=0.01, pmax=10.0), com_rn_gamma:Uniform(pmin=0, pmax=7), com_rn_log10_A:LinearExp(pmin=-18, pmax=-13)]\n",
      "In Fe-proposal we will use p_det=0.5 and alpha=0.1\n",
      "Using 4 temperature chains with a geometric spacing of 1.357. Temperature ladder is:\n",
      " [ 1.          1.35720881  1.84201575  2.5       ]\n",
      "Prior on number of sources:  [ 0.09090909  0.09090909  0.09090909  0.09090909  0.09090909  0.09090909\n",
      "  0.09090909  0.09090909  0.09090909  0.09090909  0.09090909]\n",
      "78\n",
      "7\n",
      "3\n",
      "2\n",
      "7\n",
      "1\n",
      "[  3.           0.43351577   0.70552241   2.04376231  -7.4996164\n",
      " -13.16098415   5.83428819   2.82803858  -0.04338344  -0.59375906\n",
      "   1.4352143   -7.95598649 -13.00254945   3.85164888   1.32013848\n",
      "  -0.97954294   0.56408587   4.79057327  -8.16659949 -13.11715844\n",
      "   2.05314077   1.96731473   0.           0.           0.           0.           0.\n",
      "   0.           0.           0.           0.           0.           0.           0.\n",
      "   0.           0.           0.           0.           0.           0.           0.\n",
      "   0.           0.           0.           0.           0.           0.           0.\n",
      "   0.           0.           0.           0.           0.           0.           0.\n",
      "   0.           0.           0.           0.           0.           0.           0.\n",
      "   0.           0.           0.           0.           0.           0.           0.\n",
      "   0.           0.           1.           1.           1.           1.           1.\n",
      "   3.61956964 -13.78377036]\n",
      "6140.33660362\n"
     ]
    },
    {
     "name": "stdout",
     "output_type": "stream",
     "text": [
      "Percentage of steps doing different jumps:\n",
      "PT swaps: 25.00%\n",
      "RJ moves: 12.50%\n",
      "GWB-switches: 0.00%\n",
      "Fe-proposals: 18.75%\n",
      "Jumps along Fisher eigendirections: 18.75%\n",
      "Draw from prior: 0.00%\n",
      "Differential evolution jump: 0.00%\n",
      "Noise jump: 25.00%\n",
      "Progress: 0.00% Acceptance fraction (RJ, swap, each chain): (nan, nan, nan, nan, nan, nan)\n"
     ]
    },
    {
     "name": "stderr",
     "output_type": "stream",
     "text": [
      "/home/beno/Dropbox/Szakma/Research/PTA_background/Enterprise/MySampler/BayesHopper/BayesHopper.py:255: RuntimeWarning: invalid value encountered in true_divide\n",
      "  acc_fraction = a_yes/(a_no+a_yes)\n",
      "/home/beno/anaconda3/envs/Enterprise_new/lib/python3.6/site-packages/enterprise_extensions/deterministic.py:295: RuntimeWarning: invalid value encountered in arccos\n",
      "  inc = np.arccos(cos_inc)\n",
      "/home/beno/anaconda3/envs/Enterprise_new/lib/python3.6/site-packages/enterprise/signals/parameter.py:64: RuntimeWarning: divide by zero encountered in log\n",
      "  logpdf = np.log(self.prior(value, **kwargs))\n",
      "/home/beno/Dropbox/Szakma/Research/PTA_background/Enterprise/MySampler/BayesHopper/BayesHopper.py:914: RuntimeWarning: invalid value encountered in double_scalars\n",
      "  log_acc_ratio += -ptas[n_source][gwb_on].get_lnlikelihood(samples_current)/Ts[j]\n",
      "/home/beno/Dropbox/Szakma/Research/PTA_background/Enterprise/MySampler/BayesHopper/BayesHopper.py:746: RuntimeWarning: invalid value encountered in double_scalars\n",
      "  log_acc_ratio += -ptas[n_source][gwb_on].get_lnlikelihood(samples_current)/Ts[j]\n"
     ]
    },
    {
     "name": "stdout",
     "output_type": "stream",
     "text": [
      "Progress: 1.00% Acceptance fraction (RJ, swap, each chain): (0.75, 0.50, 0.33, 0.33, 0.67, 0.67)\n",
      "Progress: 2.00% Acceptance fraction (RJ, swap, each chain): (0.44, 0.43, 0.78, 0.67, 0.33, 0.67)\n",
      "Progress: 3.00% Acceptance fraction (RJ, swap, each chain): (0.47, 0.38, 0.79, 0.79, 0.43, 0.64)\n",
      "Progress: 4.00% Acceptance fraction (RJ, swap, each chain): (0.47, 0.42, 0.65, 0.80, 0.50, 0.65)\n",
      "Progress: 5.00% Acceptance fraction (RJ, swap, each chain): (0.50, 0.33, 0.62, 0.69, 0.42, 0.62)\n"
     ]
    },
    {
     "name": "stderr",
     "output_type": "stream",
     "text": [
      "/home/beno/anaconda3/envs/Enterprise_new/lib/python3.6/site-packages/enterprise_extensions/deterministic.py:294: RuntimeWarning: invalid value encountered in arccos\n",
      "  gwtheta = np.arccos(cos_gwtheta)\n"
     ]
    },
    {
     "name": "stdout",
     "output_type": "stream",
     "text": [
      "Progress: 6.00% Acceptance fraction (RJ, swap, each chain): (0.50, 0.28, 0.59, 0.66, 0.38, 0.56)\n",
      "Progress: 7.00% Acceptance fraction (RJ, swap, each chain): (0.48, 0.28, 0.59, 0.63, 0.37, 0.54)\n",
      "Progress: 8.00% Acceptance fraction (RJ, swap, each chain): (0.48, 0.28, 0.55, 0.61, 0.39, 0.57)\n",
      "Progress: 9.00% Acceptance fraction (RJ, swap, each chain): (0.48, 0.29, 0.55, 0.61, 0.45, 0.55)\n",
      "Progress: 10.00% Acceptance fraction (RJ, swap, each chain): (0.45, 0.29, 0.53, 0.60, 0.42, 0.52)\n",
      "Progress: 11.00% Acceptance fraction (RJ, swap, each chain): (0.45, 0.31, 0.51, 0.59, 0.43, 0.49)\n",
      "Progress: 12.00% Acceptance fraction (RJ, swap, each chain): (0.38, 0.31, 0.51, 0.58, 0.45, 0.50)\n",
      "Progress: 13.00% Acceptance fraction (RJ, swap, each chain): (0.36, 0.34, 0.52, 0.58, 0.43, 0.52)\n",
      "Progress: 14.00% Acceptance fraction (RJ, swap, each chain): (0.34, 0.37, 0.52, 0.59, 0.44, 0.52)\n",
      "Progress: 15.00% Acceptance fraction (RJ, swap, each chain): (0.32, 0.39, 0.54, 0.59, 0.43, 0.53)\n",
      "Progress: 16.00% Acceptance fraction (RJ, swap, each chain): (0.32, 0.44, 0.54, 0.59, 0.46, 0.55)\n",
      "Progress: 17.00% Acceptance fraction (RJ, swap, each chain): (0.31, 0.49, 0.54, 0.59, 0.46, 0.54)\n",
      "Progress: 18.00% Acceptance fraction (RJ, swap, each chain): (0.29, 0.45, 0.53, 0.58, 0.46, 0.54)\n",
      "Progress: 19.00% Acceptance fraction (RJ, swap, each chain): (0.29, 0.44, 0.54, 0.58, 0.49, 0.56)\n",
      "Progress: 20.00% Acceptance fraction (RJ, swap, each chain): (0.29, 0.44, 0.54, 0.56, 0.49, 0.56)\n",
      "Progress: 21.00% Acceptance fraction (RJ, swap, each chain): (0.27, 0.44, 0.55, 0.56, 0.48, 0.56)\n",
      "Progress: 22.00% Acceptance fraction (RJ, swap, each chain): (0.26, 0.42, 0.54, 0.55, 0.47, 0.54)\n"
     ]
    },
    {
     "name": "stderr",
     "output_type": "stream",
     "text": [
      "/home/beno/Dropbox/Szakma/Research/PTA_background/Enterprise/MySampler/BayesHopper/BayesHopper.py:823: RuntimeWarning: divide by zero encountered in double_scalars\n",
      "  hastings_extra_factor *= prior_old / ( (1-p_det)*prior_new + p_det*prior_det_new*ext_pdf(new_param) )\n",
      "/home/beno/Dropbox/Szakma/Research/PTA_background/Enterprise/MySampler/BayesHopper/BayesHopper.py:831: RuntimeWarning: invalid value encountered in double_scalars\n",
      "  acc_ratio = np.exp(log_acc_ratio)*(fe_old_point/fe_new_point)*hastings_extra_factor\n"
     ]
    },
    {
     "name": "stdout",
     "output_type": "stream",
     "text": [
      "Progress: 23.00% Acceptance fraction (RJ, swap, each chain): (0.26, 0.43, 0.54, 0.55, 0.46, 0.53)\n",
      "Progress: 24.00% Acceptance fraction (RJ, swap, each chain): (0.26, 0.42, 0.54, 0.55, 0.47, 0.53)\n",
      "Progress: 25.00% Acceptance fraction (RJ, swap, each chain): (0.26, 0.43, 0.54, 0.55, 0.48, 0.53)\n",
      "Progress: 26.00% Acceptance fraction (RJ, swap, each chain): (0.26, 0.43, 0.55, 0.55, 0.48, 0.53)\n",
      "Progress: 27.00% Acceptance fraction (RJ, swap, each chain): (0.27, 0.45, 0.54, 0.54, 0.49, 0.54)\n",
      "Progress: 28.00% Acceptance fraction (RJ, swap, each chain): (0.27, 0.46, 0.54, 0.54, 0.49, 0.53)\n",
      "Progress: 29.00% Acceptance fraction (RJ, swap, each chain): (0.26, 0.47, 0.54, 0.54, 0.50, 0.54)\n",
      "Progress: 30.00% Acceptance fraction (RJ, swap, each chain): (0.26, 0.46, 0.54, 0.53, 0.52, 0.54)\n",
      "Progress: 31.00% Acceptance fraction (RJ, swap, each chain): (0.25, 0.48, 0.54, 0.54, 0.52, 0.54)\n",
      "Progress: 32.00% Acceptance fraction (RJ, swap, each chain): (0.25, 0.50, 0.53, 0.53, 0.52, 0.54)\n",
      "Progress: 33.00% Acceptance fraction (RJ, swap, each chain): (0.26, 0.51, 0.54, 0.54, 0.53, 0.54)\n",
      "Progress: 34.00% Acceptance fraction (RJ, swap, each chain): (0.28, 0.51, 0.53, 0.54, 0.53, 0.54)\n",
      "Progress: 35.00% Acceptance fraction (RJ, swap, each chain): (0.28, 0.51, 0.54, 0.53, 0.54, 0.54)\n"
     ]
    },
    {
     "name": "stderr",
     "output_type": "stream",
     "text": [
      "/home/beno/Dropbox/Szakma/Research/PTA_background/Enterprise/MySampler/BayesHopper/BayesHopper.py:959: RuntimeWarning: invalid value encountered in double_scalars\n",
      "  log_acc_ratio += -ptas[n_source][gwb_on].get_lnlikelihood(samples_current)/Ts[j]\n",
      "/home/beno/Dropbox/Szakma/Research/PTA_background/Enterprise/MySampler/BayesHopper/BayesHopper.py:999: RuntimeWarning: invalid value encountered in double_scalars\n",
      "  log_acc_ratio += ptas[n_source2][gwb_on2].get_lnlikelihood(samples_current2) / Ts[swap_chain]\n",
      "/home/beno/Dropbox/Szakma/Research/PTA_background/Enterprise/MySampler/BayesHopper/BayesHopper.py:1000: RuntimeWarning: invalid value encountered in double_scalars\n",
      "  log_acc_ratio += ptas[n_source1][gwb_on1].get_lnlikelihood(samples_current1) / Ts[swap_chain+1]\n"
     ]
    },
    {
     "name": "stdout",
     "output_type": "stream",
     "text": [
      "Progress: 36.00% Acceptance fraction (RJ, swap, each chain): (0.28, 0.51, 0.54, 0.54, 0.53, 0.54)\n",
      "Progress: 37.00% Acceptance fraction (RJ, swap, each chain): (0.28, 0.51, 0.54, 0.54, 0.53, 0.55)\n",
      "Progress: 38.00% Acceptance fraction (RJ, swap, each chain): (0.29, 0.49, 0.54, 0.54, 0.53, 0.55)\n",
      "Progress: 39.00% Acceptance fraction (RJ, swap, each chain): (0.30, 0.49, 0.54, 0.54, 0.53, 0.56)\n",
      "Progress: 40.00% Acceptance fraction (RJ, swap, each chain): (0.30, 0.50, 0.55, 0.54, 0.53, 0.56)\n",
      "Progress: 41.00% Acceptance fraction (RJ, swap, each chain): (0.29, 0.50, 0.55, 0.54, 0.53, 0.56)\n",
      "Progress: 42.00% Acceptance fraction (RJ, swap, each chain): (0.29, 0.51, 0.55, 0.54, 0.53, 0.57)\n",
      "Progress: 43.00% Acceptance fraction (RJ, swap, each chain): (0.29, 0.51, 0.56, 0.54, 0.54, 0.56)\n",
      "Progress: 44.00% Acceptance fraction (RJ, swap, each chain): (0.29, 0.52, 0.55, 0.54, 0.53, 0.56)\n",
      "Progress: 45.00% Acceptance fraction (RJ, swap, each chain): (0.29, 0.52, 0.56, 0.54, 0.53, 0.56)\n",
      "Progress: 46.00% Acceptance fraction (RJ, swap, each chain): (0.28, 0.53, 0.56, 0.54, 0.54, 0.56)\n",
      "Progress: 47.00% Acceptance fraction (RJ, swap, each chain): (0.28, 0.54, 0.56, 0.55, 0.54, 0.56)\n",
      "Progress: 48.00% Acceptance fraction (RJ, swap, each chain): (0.28, 0.54, 0.55, 0.55, 0.53, 0.56)\n",
      "Progress: 49.00% Acceptance fraction (RJ, swap, each chain): (0.28, 0.55, 0.55, 0.54, 0.53, 0.55)\n",
      "Progress: 50.00% Acceptance fraction (RJ, swap, each chain): (0.30, 0.55, 0.55, 0.54, 0.53, 0.55)\n",
      "Progress: 51.00% Acceptance fraction (RJ, swap, each chain): (0.29, 0.55, 0.55, 0.54, 0.53, 0.54)\n",
      "Progress: 52.00% Acceptance fraction (RJ, swap, each chain): (0.29, 0.54, 0.54, 0.54, 0.52, 0.54)\n",
      "Progress: 53.00% Acceptance fraction (RJ, swap, each chain): (0.28, 0.55, 0.55, 0.54, 0.53, 0.54)\n",
      "Progress: 54.00% Acceptance fraction (RJ, swap, each chain): (0.28, 0.55, 0.55, 0.54, 0.53, 0.54)\n",
      "Progress: 55.00% Acceptance fraction (RJ, swap, each chain): (0.27, 0.54, 0.55, 0.53, 0.53, 0.55)\n",
      "Progress: 56.00% Acceptance fraction (RJ, swap, each chain): (0.27, 0.54, 0.55, 0.53, 0.53, 0.55)\n",
      "Progress: 57.00% Acceptance fraction (RJ, swap, each chain): (0.27, 0.53, 0.55, 0.53, 0.53, 0.54)\n",
      "Progress: 58.00% Acceptance fraction (RJ, swap, each chain): (0.27, 0.52, 0.55, 0.53, 0.53, 0.54)\n",
      "Progress: 59.00% Acceptance fraction (RJ, swap, each chain): (0.28, 0.52, 0.55, 0.54, 0.53, 0.54)\n",
      "Progress: 60.00% Acceptance fraction (RJ, swap, each chain): (0.29, 0.52, 0.55, 0.54, 0.53, 0.54)\n",
      "Progress: 61.00% Acceptance fraction (RJ, swap, each chain): (0.29, 0.52, 0.55, 0.54, 0.53, 0.54)\n",
      "Progress: 62.00% Acceptance fraction (RJ, swap, each chain): (0.28, 0.53, 0.55, 0.54, 0.53, 0.54)\n",
      "Progress: 63.00% Acceptance fraction (RJ, swap, each chain): (0.28, 0.53, 0.55, 0.54, 0.53, 0.54)\n",
      "Progress: 64.00% Acceptance fraction (RJ, swap, each chain): (0.27, 0.54, 0.55, 0.54, 0.53, 0.53)\n",
      "Progress: 65.00% Acceptance fraction (RJ, swap, each chain): (0.27, 0.54, 0.55, 0.54, 0.53, 0.53)\n",
      "Progress: 66.00% Acceptance fraction (RJ, swap, each chain): (0.27, 0.54, 0.55, 0.54, 0.53, 0.54)\n",
      "Progress: 67.00% Acceptance fraction (RJ, swap, each chain): (0.27, 0.54, 0.55, 0.53, 0.53, 0.53)\n",
      "Progress: 68.00% Acceptance fraction (RJ, swap, each chain): (0.26, 0.55, 0.55, 0.53, 0.53, 0.53)\n",
      "Progress: 69.00% Acceptance fraction (RJ, swap, each chain): (0.26, 0.56, 0.54, 0.53, 0.53, 0.53)\n",
      "Progress: 70.00% Acceptance fraction (RJ, swap, each chain): (0.26, 0.57, 0.54, 0.53, 0.52, 0.52)\n",
      "Progress: 71.00% Acceptance fraction (RJ, swap, each chain): (0.26, 0.57, 0.54, 0.53, 0.53, 0.53)\n",
      "Progress: 72.00% Acceptance fraction (RJ, swap, each chain): (0.26, 0.58, 0.55, 0.53, 0.53, 0.53)\n",
      "Progress: 73.00% Acceptance fraction (RJ, swap, each chain): (0.26, 0.58, 0.54, 0.53, 0.53, 0.53)\n",
      "Progress: 74.00% Acceptance fraction (RJ, swap, each chain): (0.27, 0.58, 0.54, 0.53, 0.53, 0.53)\n",
      "Progress: 75.00% Acceptance fraction (RJ, swap, each chain): (0.26, 0.58, 0.54, 0.53, 0.53, 0.53)\n",
      "Progress: 76.00% Acceptance fraction (RJ, swap, each chain): (0.26, 0.58, 0.54, 0.53, 0.54, 0.53)\n",
      "Progress: 77.00% Acceptance fraction (RJ, swap, each chain): (0.26, 0.58, 0.54, 0.53, 0.53, 0.53)\n",
      "Progress: 78.00% Acceptance fraction (RJ, swap, each chain): (0.27, 0.58, 0.54, 0.53, 0.54, 0.53)\n",
      "Progress: 79.00% Acceptance fraction (RJ, swap, each chain): (0.27, 0.58, 0.54, 0.53, 0.54, 0.53)\n",
      "Progress: 80.00% Acceptance fraction (RJ, swap, each chain): (0.27, 0.57, 0.55, 0.53, 0.54, 0.53)\n",
      "Progress: 81.00% Acceptance fraction (RJ, swap, each chain): (0.27, 0.58, 0.55, 0.53, 0.54, 0.53)\n",
      "Progress: 82.00% Acceptance fraction (RJ, swap, each chain): (0.27, 0.58, 0.55, 0.53, 0.53, 0.53)\n",
      "Progress: 83.00% Acceptance fraction (RJ, swap, each chain): (0.26, 0.57, 0.55, 0.53, 0.53, 0.53)\n",
      "Progress: 84.00% Acceptance fraction (RJ, swap, each chain): (0.26, 0.58, 0.55, 0.53, 0.53, 0.53)\n",
      "Progress: 85.00% Acceptance fraction (RJ, swap, each chain): (0.26, 0.57, 0.55, 0.53, 0.53, 0.53)\n",
      "Progress: 86.00% Acceptance fraction (RJ, swap, each chain): (0.26, 0.58, 0.55, 0.53, 0.53, 0.53)\n",
      "Progress: 87.00% Acceptance fraction (RJ, swap, each chain): (0.26, 0.58, 0.54, 0.53, 0.53, 0.53)\n",
      "Progress: 88.00% Acceptance fraction (RJ, swap, each chain): (0.26, 0.58, 0.54, 0.53, 0.53, 0.53)\n"
     ]
    }
   ],
   "source": [
    "%%time\n",
    "\n",
    "#T_max should be SNR^2/25 --> hottest chain sees a signal with SNR=5\n",
    "#SNR = sqrt(2*F_e)\n",
    "#SNR1=; SNR2=\n",
    "#T_max = ()^2/25 = () -->10\n",
    "\n",
    "#number of chains should be set to have a spacing below 2 (maybe even below 1.5)\n",
    "\n",
    "N=int(1e3)\n",
    "T_max = 2.5\n",
    "n_chain = 4\n",
    "#T_max = 9.0\n",
    "#n_chain = 6\n",
    "\n",
    "samples, acc_fraction, swap_record, rj_record = BayesHopper.run_ptmcmc(N, T_max, n_chain, psrs[::4],\n",
    "                                                                       #n_source_prior=[30000.0,1.0],\n",
    "                                                                       #n_source_prior=[2000.0,1.0],\n",
    "                                                                       #T_ladder=[1.0, 1.15, 1.3],\n",
    "                                                                    max_n_source=10,\n",
    "                                                                    #n_source_start=0,\n",
    "                                                                    RJ_weight=2,\n",
    "                                                                    regular_weight=3,#was 6\n",
    "                                                                    noise_jump_weight=4,#5,\n",
    "                                                                    PT_swap_weight=4, #was 8\n",
    "                                                                    Fe_proposal_weight=3,#was 2\n",
    "                                                                    gwb_switch_weight=0,\n",
    "                                                                    fe_file=\"fstat_map_study2b.npz\",\n",
    "                                                                    #fe_file=\"fstat_map_fake4.npz\",\n",
    "                                                                    #fe_file=\"fstat_map_gwb.npz\",\n",
    "                                                                    #fe_file=\"fstat_map_2source_v4_lowSNR_psrTerm.npz\",\n",
    "                                                                    #fe_file=\"fstat_map_2source_v4_unequalSNR.npz\",\n",
    "                                                                    #fe_file=\"fstat_map_fake.npz\",\n",
    "                                                                    prior_recovery=False,\n",
    "                                                                    #gwb_log_amp_range=[-18,-13],\n",
    "                                                                    rn_log_amp_range=[-18,-13],\n",
    "                                                                    cw_log_amp_range=[-18,-13],\n",
    "                                                                    gwb_amp_prior='uniform',\n",
    "                                                                    rn_amp_prior='uniform',\n",
    "                                                                    #gwb_on_prior=0.8,\n",
    "                                                                    draw_from_prior_weight=0, de_weight=0,\n",
    "                                                                    vary_white_noise=True,\n",
    "                                                                    include_gwb=False, include_psr_term=False,\n",
    "                                                                    include_rn=True, vary_rn=True)"
   ]
  },
  {
   "cell_type": "code",
   "execution_count": null,
   "metadata": {},
   "outputs": [],
   "source": []
  }
 ],
 "metadata": {
  "kernelspec": {
   "display_name": "Python 3",
   "language": "python",
   "name": "python3"
  },
  "language_info": {
   "codemirror_mode": {
    "name": "ipython",
    "version": 3
   },
   "file_extension": ".py",
   "mimetype": "text/x-python",
   "name": "python",
   "nbconvert_exporter": "python",
   "pygments_lexer": "ipython3",
   "version": "3.6.9"
  }
 },
 "nbformat": 4,
 "nbformat_minor": 2
}
